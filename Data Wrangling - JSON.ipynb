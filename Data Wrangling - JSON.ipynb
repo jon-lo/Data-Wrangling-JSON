{
 "cells": [
  {
   "cell_type": "markdown",
   "metadata": {},
   "source": [
    "# JSON exercise\n",
    "\n",
    "Using data in file 'data/world_bank_projects.json':\n",
    "1. Find the 10 countries with most projects\n",
    "2. Find the top 10 major project themes (using column 'mjtheme_namecode')\n",
    "3. In 2. above you will notice that some entries have only the code and the name is missing. Create a dataframe with the missing names filled in.\n",
    "\n",
    "Data Source: http://jsonstudio.com/resources/"
   ]
  },
  {
   "cell_type": "markdown",
   "metadata": {},
   "source": [
    "#### Import Pandas, NumPy, JSON"
   ]
  },
  {
   "cell_type": "code",
   "execution_count": 50,
   "metadata": {
    "collapsed": true
   },
   "outputs": [],
   "source": [
    "import pandas as pd\n",
    "import numpy as np\n",
    "import json\n",
    "from pandas.io.json import json_normalize"
   ]
  },
  {
   "cell_type": "markdown",
   "metadata": {},
   "source": [
    "#### Top 10 Countries by Project Count"
   ]
  },
  {
   "cell_type": "code",
   "execution_count": 51,
   "metadata": {
    "collapsed": false
   },
   "outputs": [
    {
     "name": "stdout",
     "output_type": "stream",
     "text": [
      "The 10 countries with most projects, and number of projects:\n",
      "China                 19\n",
      "Indonesia             19\n",
      "Vietnam               17\n",
      "India                 16\n",
      "Yemen, Republic of    13\n",
      "Morocco               12\n",
      "Nepal                 12\n",
      "Bangladesh            12\n",
      "Mozambique            11\n",
      "Africa                11\n",
      "Name: countryshortname, dtype: int64\n"
     ]
    }
   ],
   "source": [
    "# Load JSON file as pandas DataFrame\n",
    "json_df = pd.read_json('data/world_bank_projects.json')\n",
    "# Find the top ten countries with most projects\n",
    "top_ten_countries = json_df['countryshortname'].value_counts()[0:10]\n",
    "print('The 10 countries with most projects, and number of projects:')\n",
    "print(top_ten_countries)"
   ]
  },
  {
   "cell_type": "markdown",
   "metadata": {},
   "source": [
    "#### Top 10 Project Themes (by code)"
   ]
  },
  {
   "cell_type": "code",
   "execution_count": 52,
   "metadata": {
    "collapsed": false
   },
   "outputs": [
    {
     "name": "stdout",
     "output_type": "stream",
     "text": [
      "The top 10 major project theme codes, and the number of projects:\n",
      "11    250\n",
      "10    216\n",
      "8     210\n",
      "2     199\n",
      "6     168\n",
      "4     146\n",
      "7     130\n",
      "5      77\n",
      "9      50\n",
      "1      38\n",
      "Name: code, dtype: int64\n"
     ]
    }
   ],
   "source": [
    "# Define JSON String\n",
    "json_string = json.load((open('data/world_bank_projects.json')))\n",
    "# Use Normalization to create tables from nested elements (theme names and codes)\n",
    "json_themes = json_normalize(json_string, 'mjtheme_namecode')\n",
    "top_ten_themes_codes = json_themes['code'].value_counts()[0:10]\n",
    "print('The top 10 major project themes (by code), and the number of projects:')\n",
    "print(top_ten_themes_codes)"
   ]
  },
  {
   "cell_type": "markdown",
   "metadata": {},
   "source": [
    "#### Filling in Missing Names"
   ]
  },
  {
   "cell_type": "code",
   "execution_count": 59,
   "metadata": {
    "collapsed": false
   },
   "outputs": [
    {
     "name": "stdout",
     "output_type": "stream",
     "text": [
      "The top 10 major project themes (by name), and the number of projects:\n",
      "Environment and natural resources management    250\n",
      "Rural development                               216\n",
      "Human development                               210\n",
      "Public sector governance                        199\n",
      "Social protection and risk management           168\n",
      "Financial and private sector development        146\n",
      "Social dev/gender/inclusion                     130\n",
      "Trade and integration                            77\n",
      "Urban development                                50\n",
      "Economic management                              38\n",
      "Name: name, dtype: int64\n"
     ]
    }
   ],
   "source": [
    "# Sort DataFrame by code and name\n",
    "json_themes = json_themes.sort_values(['code','name'])\n",
    "\n",
    "# Replace all empty cells in 'name' column with NaN\n",
    "json_themes.name[json_themes['name'] == ''] = np.nan\n",
    "\n",
    "# Using .fillna() to replace all NaNs\n",
    "json_themes = json_themes.fillna(method='bfill')\n",
    "\n",
    "top_ten_themes_names = json_themes['name'].value_counts()[0:10]\n",
    "print('The top 10 major project themes (by name), and the number of projects:')\n",
    "print(top_ten_themes_names)"
   ]
  }
 ],
 "metadata": {
  "kernelspec": {
   "display_name": "Python 3",
   "language": "python",
   "name": "python3"
  },
  "language_info": {
   "codemirror_mode": {
    "name": "ipython",
    "version": 3
   },
   "file_extension": ".py",
   "mimetype": "text/x-python",
   "name": "python",
   "nbconvert_exporter": "python",
   "pygments_lexer": "ipython3",
   "version": "3.6.0"
  }
 },
 "nbformat": 4,
 "nbformat_minor": 0
}
